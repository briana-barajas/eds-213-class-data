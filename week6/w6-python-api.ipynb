{
 "cells": [
  {
   "cell_type": "markdown",
   "metadata": {},
   "source": [
    "# 6.1 Python Programming"
   ]
  },
  {
   "cell_type": "code",
   "execution_count": 12,
   "metadata": {},
   "outputs": [],
   "source": [
    "import duckdb\n",
    "conn = duckdb.connect(\"../week3/database.db\")\n",
    "\n",
    "#every cursor is doing one thing at a time\n",
    "cur = conn.cursor()"
   ]
  },
  {
   "cell_type": "code",
   "execution_count": 3,
   "metadata": {},
   "outputs": [
    {
     "data": {
      "text/plain": [
       "[('barr',\n",
       "  'Barrow',\n",
       "  'Alaska, USA',\n",
       "  71.30000305175781,\n",
       "  -156.60000610351562,\n",
       "  220.39999389648438),\n",
       " ('burn',\n",
       "  'Burntpoint Creek',\n",
       "  'Ontario, Canada',\n",
       "  55.20000076293945,\n",
       "  -84.30000305175781,\n",
       "  63.0),\n",
       " ('bylo',\n",
       "  'Bylot Island',\n",
       "  'Nunavut, Canada',\n",
       "  73.19999694824219,\n",
       "  -80.0,\n",
       "  723.5999755859375),\n",
       " ('cakr',\n",
       "  'Cape Krusenstern',\n",
       "  'Alaska, USA',\n",
       "  67.0999984741211,\n",
       "  -163.5,\n",
       "  54.099998474121094),\n",
       " ('cari',\n",
       "  'Canning River Delta',\n",
       "  'Alaska, USA',\n",
       "  70.0999984741211,\n",
       "  -145.8000030517578,\n",
       "  722.0)]"
      ]
     },
     "execution_count": 3,
     "metadata": {},
     "output_type": "execute_result"
    }
   ],
   "source": [
    "# execute a command\n",
    "cur.execute(\"SELECT * FROM Site LIMIT 5\")\n",
    "\n",
    "# return all the results\n",
    "cur.fetchall()"
   ]
  },
  {
   "cell_type": "code",
   "execution_count": 6,
   "metadata": {},
   "outputs": [
    {
     "data": {
      "text/plain": [
       "[(1547,)]"
      ]
     },
     "execution_count": 6,
     "metadata": {},
     "output_type": "execute_result"
    }
   ],
   "source": [
    "# return all results\n",
    "cur.execute(\"SELECT COUNT(*) FROM Bird_nests\")\n",
    "cur.fetchall() # all results"
   ]
  },
  {
   "cell_type": "code",
   "execution_count": 7,
   "metadata": {},
   "outputs": [
    {
     "data": {
      "text/plain": [
       "(1547,)"
      ]
     },
     "execution_count": 7,
     "metadata": {},
     "output_type": "execute_result"
    }
   ],
   "source": [
    "# return first results\n",
    "cur.execute(\"SELECT COUNT(*) FROM Bird_nests\")\n",
    "cur.fetchone()"
   ]
  },
  {
   "cell_type": "code",
   "execution_count": 8,
   "metadata": {},
   "outputs": [
    {
     "data": {
      "text/plain": [
       "1547"
      ]
     },
     "execution_count": 8,
     "metadata": {},
     "output_type": "execute_result"
    }
   ],
   "source": [
    "# return only value\n",
    "cur.execute(\"SELECT COUNT(*) FROM Bird_nests\")\n",
    "cur.fetchone()[0]"
   ]
  },
  {
   "cell_type": "markdown",
   "metadata": {},
   "source": [
    "**NOTE:** Duckdb doesn't support iterators, but can use this work around:"
   ]
  },
  {
   "cell_type": "code",
   "execution_count": 9,
   "metadata": {},
   "outputs": [
    {
     "name": "stdout",
     "output_type": "stream",
     "text": [
      "got nest ID 14HPE1\n",
      "got nest ID 11eaba\n",
      "got nest ID 11eabaagc01\n",
      "got nest ID 11eabaagv01\n",
      "got nest ID 11eababbc02\n",
      "got nest ID 11eababsv01\n",
      "got nest ID 11eabaduh01\n",
      "got nest ID 11eabaduv01\n",
      "got nest ID 11eabarpc01\n",
      "got nest ID 11eabarpc02\n"
     ]
    }
   ],
   "source": [
    "cur.execute(\"SELECT Nest_ID FROM Bird_nests LIMIT 10\")\n",
    "while True:\n",
    "    row = cur.fetchone()\n",
    "    if row == None:\n",
    "        break\n",
    "    # do something with row\n",
    "    print(f\"got nest ID {row[0]}\")"
   ]
  },
  {
   "cell_type": "markdown",
   "metadata": {},
   "source": [
    "**EXAMPLE:** Use a query to find the number of nests per each species. Create a print statement"
   ]
  },
  {
   "cell_type": "code",
   "execution_count": 18,
   "metadata": {},
   "outputs": [
    {
     "name": "stdout",
     "output_type": "stream",
     "text": [
      "Species agsq has 0 nests\n",
      "Species amcr has 0 nests\n",
      "Species amgp has 29 nests\n"
     ]
    }
   ],
   "source": [
    "query = \"\"\"\n",
    "   SELECT COUNT(*) FROM Bird_nests\n",
    "   WHERE Species = ?\n",
    "\"\"\"\n",
    "cur.execute(\"SELECT Code FROM Species LIMIT 3\")\n",
    "for row in cur.fetchall():  # DuckDB workaround\n",
    "    code = row[0]\n",
    "    # NOT NEEDED! prepared_query = query % code\n",
    "    #print(prepared_query)\n",
    "    cur2 = conn.cursor()\n",
    "    cur2.execute(query, [code])  # <-- added argument here\n",
    "    print(f\"Species {code} has {cur2.fetchone()[0]} nests\")\n",
    "    cur2.close()\n"
   ]
  },
  {
   "cell_type": "markdown",
   "metadata": {},
   "source": [
    "## Pandas\n",
    "Can import Pandas and use SQL statements."
   ]
  },
  {
   "cell_type": "code",
   "execution_count": 19,
   "metadata": {},
   "outputs": [],
   "source": [
    "import pandas as pd"
   ]
  },
  {
   "cell_type": "code",
   "execution_count": 20,
   "metadata": {},
   "outputs": [
    {
     "data": {
      "text/html": [
       "<div>\n",
       "<style scoped>\n",
       "    .dataframe tbody tr th:only-of-type {\n",
       "        vertical-align: middle;\n",
       "    }\n",
       "\n",
       "    .dataframe tbody tr th {\n",
       "        vertical-align: top;\n",
       "    }\n",
       "\n",
       "    .dataframe thead th {\n",
       "        text-align: right;\n",
       "    }\n",
       "</style>\n",
       "<table border=\"1\" class=\"dataframe\">\n",
       "  <thead>\n",
       "    <tr style=\"text-align: right;\">\n",
       "      <th></th>\n",
       "      <th>Code</th>\n",
       "      <th>Site_name</th>\n",
       "      <th>Location</th>\n",
       "      <th>Latitude</th>\n",
       "      <th>Longitude</th>\n",
       "      <th>Area</th>\n",
       "    </tr>\n",
       "  </thead>\n",
       "  <tbody>\n",
       "    <tr>\n",
       "      <th>0</th>\n",
       "      <td>barr</td>\n",
       "      <td>Barrow</td>\n",
       "      <td>Alaska, USA</td>\n",
       "      <td>71.300003</td>\n",
       "      <td>-156.600006</td>\n",
       "      <td>220.399994</td>\n",
       "    </tr>\n",
       "    <tr>\n",
       "      <th>1</th>\n",
       "      <td>burn</td>\n",
       "      <td>Burntpoint Creek</td>\n",
       "      <td>Ontario, Canada</td>\n",
       "      <td>55.200001</td>\n",
       "      <td>-84.300003</td>\n",
       "      <td>63.000000</td>\n",
       "    </tr>\n",
       "    <tr>\n",
       "      <th>2</th>\n",
       "      <td>bylo</td>\n",
       "      <td>Bylot Island</td>\n",
       "      <td>Nunavut, Canada</td>\n",
       "      <td>73.199997</td>\n",
       "      <td>-80.000000</td>\n",
       "      <td>723.599976</td>\n",
       "    </tr>\n",
       "    <tr>\n",
       "      <th>3</th>\n",
       "      <td>cakr</td>\n",
       "      <td>Cape Krusenstern</td>\n",
       "      <td>Alaska, USA</td>\n",
       "      <td>67.099998</td>\n",
       "      <td>-163.500000</td>\n",
       "      <td>54.099998</td>\n",
       "    </tr>\n",
       "    <tr>\n",
       "      <th>4</th>\n",
       "      <td>cari</td>\n",
       "      <td>Canning River Delta</td>\n",
       "      <td>Alaska, USA</td>\n",
       "      <td>70.099998</td>\n",
       "      <td>-145.800003</td>\n",
       "      <td>722.000000</td>\n",
       "    </tr>\n",
       "  </tbody>\n",
       "</table>\n",
       "</div>"
      ],
      "text/plain": [
       "   Code            Site_name         Location   Latitude   Longitude  \\\n",
       "0  barr               Barrow      Alaska, USA  71.300003 -156.600006   \n",
       "1  burn     Burntpoint Creek  Ontario, Canada  55.200001  -84.300003   \n",
       "2  bylo         Bylot Island  Nunavut, Canada  73.199997  -80.000000   \n",
       "3  cakr     Cape Krusenstern      Alaska, USA  67.099998 -163.500000   \n",
       "4  cari  Canning River Delta      Alaska, USA  70.099998 -145.800003   \n",
       "\n",
       "         Area  \n",
       "0  220.399994  \n",
       "1   63.000000  \n",
       "2  723.599976  \n",
       "3   54.099998  \n",
       "4  722.000000  "
      ]
     },
     "execution_count": 20,
     "metadata": {},
     "output_type": "execute_result"
    }
   ],
   "source": [
    "# read in any SQL table as a pandas df\n",
    "df = pd.read_sql(\"SELECT * FROM Site\", conn)\n",
    "df.head(5)"
   ]
  },
  {
   "cell_type": "markdown",
   "metadata": {},
   "source": [
    "## Cursors\n",
    "Cursors are an object that mediates between submitting a query and getting the desired results. If we wanted to run several queries, we'd want more cursors. Cursors return a list.\n",
    "\n",
    "__Example:__ Return all values"
   ]
  },
  {
   "cell_type": "code",
   "execution_count": 21,
   "metadata": {},
   "outputs": [],
   "source": [
    "# recreate cursor\n",
    "conn = duckdb.connect(\"../week3/database.db\")\n",
    "cur = conn.cursor()"
   ]
  },
  {
   "cell_type": "markdown",
   "metadata": {},
   "source": [
    "# 6.2 Python Programming Cont.\n",
    "\n",
    "**EXAMPLE:** Use a select statement"
   ]
  },
  {
   "cell_type": "code",
   "execution_count": 22,
   "metadata": {},
   "outputs": [
    {
     "data": {
      "text/plain": [
       "['14HPE1',\n",
       " '11eaba',\n",
       " '11eabaagc01',\n",
       " '11eabaagv01',\n",
       " '11eababbc02',\n",
       " '11eababsv01',\n",
       " '11eabaduh01',\n",
       " '11eabaduv01',\n",
       " '11eabarpc01',\n",
       " '11eabarpc02']"
      ]
     },
     "execution_count": 22,
     "metadata": {},
     "output_type": "execute_result"
    }
   ],
   "source": [
    "cur.execute(\"SELECT Nest_ID FROM Bird_nests LIMIT 10\")\n",
    "[t[0] for t in cur.fetchall()]"
   ]
  },
  {
   "cell_type": "markdown",
   "metadata": {},
   "source": [
    "__EXAMPLE:__ Get all results. Cursor is streaming mechanism, does not store results.\n",
    "\n"
   ]
  },
  {
   "cell_type": "code",
   "execution_count": 23,
   "metadata": {},
   "outputs": [
    {
     "name": "stdout",
     "output_type": "stream",
     "text": [
      "[(1547,)]\n"
     ]
    },
    {
     "data": {
      "text/plain": [
       "(1547,)"
      ]
     },
     "execution_count": 23,
     "metadata": {},
     "output_type": "execute_result"
    }
   ],
   "source": [
    "# return all values\n",
    "cur.execute(\"SELECT COUNT(*) FROM Bird_nests\")\n",
    "print(cur.fetchall())\n",
    "\n",
    "# return single value\n",
    "cur.execute(\"SELECT COUNT(*) FROM Bird_nests\")\n",
    "cur.fetchone()"
   ]
  },
  {
   "cell_type": "markdown",
   "metadata": {},
   "source": [
    "__NOTE:__ duckdb does not support iterators\n",
    "\n",
    "__NOTE:__ Avoid using `SELECT * FROM` since you are relying on the selection of rows. To create a more \"stable\"\n",
    "\n",
    "__EXAMPLE:__ How many nests do we have for each species?\n",
    "\n",
    "Approach 1: First get all species, then execute a count query for each species."
   ]
  },
  {
   "cell_type": "code",
   "execution_count": 24,
   "metadata": {},
   "outputs": [
    {
     "name": "stdout",
     "output_type": "stream",
     "text": [
      "Species agsq has 0 nests\n",
      "Species amcr has 0 nests\n",
      "Species amgp has 29 nests\n"
     ]
    }
   ],
   "source": [
    "# create a general query, where %s will be filled in with the sp code\n",
    "query = \" SELECT COUNT (*) FROM Bird_nests WHERE Species = '%s' \"\n",
    "\n",
    "# apply query accross all species\n",
    "cur.execute(\"SELECT Code FROM Species LIMIT 3\")\n",
    "for row in cur.fetchall():\n",
    "    code = row[0]\n",
    "    prepared_query = query % code\n",
    "    #print(prepared_query)\n",
    "    cur2 = conn.cursor()\n",
    "    cur2.execute(prepared_query)\n",
    "    print(f\"Species {code} has {cur2.fetchone()[0]} nests\")\n",
    "    cur2.close()"
   ]
  },
  {
   "cell_type": "markdown",
   "metadata": {},
   "source": [
    "Approach 2: Instead of using %s, use a ? in the query. Note the `cur2.execute()` information changes, and this code is slightly shorter."
   ]
  },
  {
   "cell_type": "code",
   "execution_count": 25,
   "metadata": {},
   "outputs": [
    {
     "name": "stdout",
     "output_type": "stream",
     "text": [
      "Species agsq has 0 nests\n",
      "Species amcr has 0 nests\n",
      "Species amgp has 29 nests\n"
     ]
    }
   ],
   "source": [
    "# create a general query using ? instead of %s\n",
    "query = \" SELECT COUNT (*) FROM Bird_nests WHERE Species = ? \"\n",
    "\n",
    "# apply query accross all species\n",
    "cur.execute(\"SELECT Code FROM Species LIMIT 3\")\n",
    "for row in cur.fetchall():\n",
    "    code = row[0]\n",
    "    cur2 = conn.cursor()\n",
    "    cur2.execute(query, [code])\n",
    "    print(f\"Species {code} has {cur2.fetchone()[0]} nests\")\n",
    "    cur2.close()\n",
    "\n",
    "cur.close()"
   ]
  }
 ],
 "metadata": {
  "kernelspec": {
   "display_name": "base",
   "language": "python",
   "name": "python3"
  },
  "language_info": {
   "codemirror_mode": {
    "name": "ipython",
    "version": 3
   },
   "file_extension": ".py",
   "mimetype": "text/x-python",
   "name": "python",
   "nbconvert_exporter": "python",
   "pygments_lexer": "ipython3",
   "version": "3.8.8"
  }
 },
 "nbformat": 4,
 "nbformat_minor": 2
}
